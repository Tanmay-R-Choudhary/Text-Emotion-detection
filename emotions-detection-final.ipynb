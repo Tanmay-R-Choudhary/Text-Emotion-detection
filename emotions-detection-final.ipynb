{
 "cells": [
  {
   "cell_type": "code",
   "execution_count": 1,
   "metadata": {
    "_cell_guid": "b1076dfc-b9ad-4769-8c92-a6c4dae69d19",
    "_uuid": "8f2839f25d086af736a60e9eeb907d3b93b6e0e5",
    "execution": {
     "iopub.execute_input": "2024-05-27T10:37:58.233008Z",
     "iopub.status.busy": "2024-05-27T10:37:58.231946Z",
     "iopub.status.idle": "2024-05-27T10:38:00.794920Z",
     "shell.execute_reply": "2024-05-27T10:38:00.793721Z",
     "shell.execute_reply.started": "2024-05-27T10:37:58.232952Z"
    }
   },
   "outputs": [],
   "source": [
    "import numpy as np\n",
    "import pandas as pd\n",
    "import seaborn as sns\n",
    "from matplotlib import pyplot as plt"
   ]
  },
  {
   "cell_type": "code",
   "execution_count": 2,
   "metadata": {
    "execution": {
     "iopub.execute_input": "2024-05-27T10:38:00.797854Z",
     "iopub.status.busy": "2024-05-27T10:38:00.797262Z",
     "iopub.status.idle": "2024-05-27T10:38:00.803429Z",
     "shell.execute_reply": "2024-05-27T10:38:00.802376Z",
     "shell.execute_reply.started": "2024-05-27T10:38:00.797823Z"
    }
   },
   "outputs": [],
   "source": [
    "train_path = \"/kaggle/input/emotions-dataset-for-nlp/train.txt\""
   ]
  },
  {
   "cell_type": "code",
   "execution_count": 3,
   "metadata": {
    "execution": {
     "iopub.execute_input": "2024-05-27T10:38:00.805164Z",
     "iopub.status.busy": "2024-05-27T10:38:00.804702Z",
     "iopub.status.idle": "2024-05-27T10:38:00.887145Z",
     "shell.execute_reply": "2024-05-27T10:38:00.885568Z",
     "shell.execute_reply.started": "2024-05-27T10:38:00.805125Z"
    }
   },
   "outputs": [],
   "source": [
    "df = pd.read_table(train_path, sep=\";\", header=None)"
   ]
  },
  {
   "cell_type": "code",
   "execution_count": 4,
   "metadata": {
    "execution": {
     "iopub.execute_input": "2024-05-27T10:38:00.891304Z",
     "iopub.status.busy": "2024-05-27T10:38:00.890486Z",
     "iopub.status.idle": "2024-05-27T10:38:00.914906Z",
     "shell.execute_reply": "2024-05-27T10:38:00.913598Z",
     "shell.execute_reply.started": "2024-05-27T10:38:00.891268Z"
    }
   },
   "outputs": [
    {
     "data": {
      "text/html": [
       "<div>\n",
       "<style scoped>\n",
       "    .dataframe tbody tr th:only-of-type {\n",
       "        vertical-align: middle;\n",
       "    }\n",
       "\n",
       "    .dataframe tbody tr th {\n",
       "        vertical-align: top;\n",
       "    }\n",
       "\n",
       "    .dataframe thead th {\n",
       "        text-align: right;\n",
       "    }\n",
       "</style>\n",
       "<table border=\"1\" class=\"dataframe\">\n",
       "  <thead>\n",
       "    <tr style=\"text-align: right;\">\n",
       "      <th></th>\n",
       "      <th>0</th>\n",
       "      <th>1</th>\n",
       "    </tr>\n",
       "  </thead>\n",
       "  <tbody>\n",
       "    <tr>\n",
       "      <th>0</th>\n",
       "      <td>i didnt feel humiliated</td>\n",
       "      <td>sadness</td>\n",
       "    </tr>\n",
       "    <tr>\n",
       "      <th>1</th>\n",
       "      <td>i can go from feeling so hopeless to so damned...</td>\n",
       "      <td>sadness</td>\n",
       "    </tr>\n",
       "    <tr>\n",
       "      <th>2</th>\n",
       "      <td>im grabbing a minute to post i feel greedy wrong</td>\n",
       "      <td>anger</td>\n",
       "    </tr>\n",
       "    <tr>\n",
       "      <th>3</th>\n",
       "      <td>i am ever feeling nostalgic about the fireplac...</td>\n",
       "      <td>love</td>\n",
       "    </tr>\n",
       "    <tr>\n",
       "      <th>4</th>\n",
       "      <td>i am feeling grouchy</td>\n",
       "      <td>anger</td>\n",
       "    </tr>\n",
       "  </tbody>\n",
       "</table>\n",
       "</div>"
      ],
      "text/plain": [
       "                                                   0        1\n",
       "0                            i didnt feel humiliated  sadness\n",
       "1  i can go from feeling so hopeless to so damned...  sadness\n",
       "2   im grabbing a minute to post i feel greedy wrong    anger\n",
       "3  i am ever feeling nostalgic about the fireplac...     love\n",
       "4                               i am feeling grouchy    anger"
      ]
     },
     "execution_count": 4,
     "metadata": {},
     "output_type": "execute_result"
    }
   ],
   "source": [
    "df.head()"
   ]
  },
  {
   "cell_type": "code",
   "execution_count": 5,
   "metadata": {
    "execution": {
     "iopub.execute_input": "2024-05-27T10:38:00.917158Z",
     "iopub.status.busy": "2024-05-27T10:38:00.916708Z",
     "iopub.status.idle": "2024-05-27T10:38:00.922812Z",
     "shell.execute_reply": "2024-05-27T10:38:00.921357Z",
     "shell.execute_reply.started": "2024-05-27T10:38:00.917120Z"
    }
   },
   "outputs": [],
   "source": [
    "df.columns = ['text', 'emotion']"
   ]
  },
  {
   "cell_type": "code",
   "execution_count": 6,
   "metadata": {
    "execution": {
     "iopub.execute_input": "2024-05-27T10:38:00.925282Z",
     "iopub.status.busy": "2024-05-27T10:38:00.924415Z",
     "iopub.status.idle": "2024-05-27T10:38:00.946494Z",
     "shell.execute_reply": "2024-05-27T10:38:00.945047Z",
     "shell.execute_reply.started": "2024-05-27T10:38:00.925244Z"
    }
   },
   "outputs": [
    {
     "data": {
      "text/html": [
       "<div>\n",
       "<style scoped>\n",
       "    .dataframe tbody tr th:only-of-type {\n",
       "        vertical-align: middle;\n",
       "    }\n",
       "\n",
       "    .dataframe tbody tr th {\n",
       "        vertical-align: top;\n",
       "    }\n",
       "\n",
       "    .dataframe thead th {\n",
       "        text-align: right;\n",
       "    }\n",
       "</style>\n",
       "<table border=\"1\" class=\"dataframe\">\n",
       "  <thead>\n",
       "    <tr style=\"text-align: right;\">\n",
       "      <th></th>\n",
       "      <th>text</th>\n",
       "      <th>emotion</th>\n",
       "    </tr>\n",
       "  </thead>\n",
       "  <tbody>\n",
       "    <tr>\n",
       "      <th>0</th>\n",
       "      <td>i didnt feel humiliated</td>\n",
       "      <td>sadness</td>\n",
       "    </tr>\n",
       "    <tr>\n",
       "      <th>1</th>\n",
       "      <td>i can go from feeling so hopeless to so damned...</td>\n",
       "      <td>sadness</td>\n",
       "    </tr>\n",
       "    <tr>\n",
       "      <th>2</th>\n",
       "      <td>im grabbing a minute to post i feel greedy wrong</td>\n",
       "      <td>anger</td>\n",
       "    </tr>\n",
       "    <tr>\n",
       "      <th>3</th>\n",
       "      <td>i am ever feeling nostalgic about the fireplac...</td>\n",
       "      <td>love</td>\n",
       "    </tr>\n",
       "    <tr>\n",
       "      <th>4</th>\n",
       "      <td>i am feeling grouchy</td>\n",
       "      <td>anger</td>\n",
       "    </tr>\n",
       "  </tbody>\n",
       "</table>\n",
       "</div>"
      ],
      "text/plain": [
       "                                                text  emotion\n",
       "0                            i didnt feel humiliated  sadness\n",
       "1  i can go from feeling so hopeless to so damned...  sadness\n",
       "2   im grabbing a minute to post i feel greedy wrong    anger\n",
       "3  i am ever feeling nostalgic about the fireplac...     love\n",
       "4                               i am feeling grouchy    anger"
      ]
     },
     "execution_count": 6,
     "metadata": {},
     "output_type": "execute_result"
    }
   ],
   "source": [
    "df.head()"
   ]
  },
  {
   "cell_type": "code",
   "execution_count": 7,
   "metadata": {
    "execution": {
     "iopub.execute_input": "2024-05-27T10:38:00.949130Z",
     "iopub.status.busy": "2024-05-27T10:38:00.948070Z",
     "iopub.status.idle": "2024-05-27T10:38:00.981205Z",
     "shell.execute_reply": "2024-05-27T10:38:00.979883Z",
     "shell.execute_reply.started": "2024-05-27T10:38:00.949095Z"
    }
   },
   "outputs": [
    {
     "name": "stdout",
     "output_type": "stream",
     "text": [
      "<class 'pandas.core.frame.DataFrame'>\n",
      "RangeIndex: 16000 entries, 0 to 15999\n",
      "Data columns (total 2 columns):\n",
      " #   Column   Non-Null Count  Dtype \n",
      "---  ------   --------------  ----- \n",
      " 0   text     16000 non-null  object\n",
      " 1   emotion  16000 non-null  object\n",
      "dtypes: object(2)\n",
      "memory usage: 250.1+ KB\n"
     ]
    }
   ],
   "source": [
    "df.info()"
   ]
  },
  {
   "cell_type": "code",
   "execution_count": 8,
   "metadata": {
    "execution": {
     "iopub.execute_input": "2024-05-27T10:38:00.983756Z",
     "iopub.status.busy": "2024-05-27T10:38:00.982700Z",
     "iopub.status.idle": "2024-05-27T10:38:01.000618Z",
     "shell.execute_reply": "2024-05-27T10:38:00.999430Z",
     "shell.execute_reply.started": "2024-05-27T10:38:00.983725Z"
    }
   },
   "outputs": [
    {
     "data": {
      "text/plain": [
       "array(['sadness', 'anger', 'love', 'surprise', 'fear', 'joy'],\n",
       "      dtype=object)"
      ]
     },
     "execution_count": 8,
     "metadata": {},
     "output_type": "execute_result"
    }
   ],
   "source": [
    "df.emotion.unique()"
   ]
  },
  {
   "cell_type": "code",
   "execution_count": 9,
   "metadata": {
    "execution": {
     "iopub.execute_input": "2024-05-27T10:38:01.002561Z",
     "iopub.status.busy": "2024-05-27T10:38:01.002134Z",
     "iopub.status.idle": "2024-05-27T10:38:01.424483Z",
     "shell.execute_reply": "2024-05-27T10:38:01.423289Z",
     "shell.execute_reply.started": "2024-05-27T10:38:01.002523Z"
    }
   },
   "outputs": [
    {
     "data": {
      "text/plain": [
       "<Axes: xlabel='count', ylabel='emotion'>"
      ]
     },
     "execution_count": 9,
     "metadata": {},
     "output_type": "execute_result"
    },
    {
     "data": {
      "image/png": "[encoded data removed]",
      "text/plain": [
       "<Figure size 640x480 with 1 Axes>"
      ]
     },
     "metadata": {},
     "output_type": "display_data"
    }
   ],
   "source": [
    "sns.countplot(y=df.emotion)"
   ]
  },
  {
   "cell_type": "code",
   "execution_count": 10,
   "metadata": {
    "execution": {
     "iopub.execute_input": "2024-05-27T10:38:01.429463Z",
     "iopub.status.busy": "2024-05-27T10:38:01.429086Z",
     "iopub.status.idle": "2024-05-27T10:38:01.445796Z",
     "shell.execute_reply": "2024-05-27T10:38:01.444422Z",
     "shell.execute_reply.started": "2024-05-27T10:38:01.429432Z"
    }
   },
   "outputs": [
    {
     "data": {
      "text/html": [
       "<div>\n",
       "<style scoped>\n",
       "    .dataframe tbody tr th:only-of-type {\n",
       "        vertical-align: middle;\n",
       "    }\n",
       "\n",
       "    .dataframe tbody tr th {\n",
       "        vertical-align: top;\n",
       "    }\n",
       "\n",
       "    .dataframe thead th {\n",
       "        text-align: right;\n",
       "    }\n",
       "</style>\n",
       "<table border=\"1\" class=\"dataframe\">\n",
       "  <thead>\n",
       "    <tr style=\"text-align: right;\">\n",
       "      <th></th>\n",
       "      <th>text</th>\n",
       "    </tr>\n",
       "    <tr>\n",
       "      <th>emotion</th>\n",
       "      <th></th>\n",
       "    </tr>\n",
       "  </thead>\n",
       "  <tbody>\n",
       "    <tr>\n",
       "      <th>anger</th>\n",
       "      <td>2159</td>\n",
       "    </tr>\n",
       "    <tr>\n",
       "      <th>fear</th>\n",
       "      <td>1937</td>\n",
       "    </tr>\n",
       "    <tr>\n",
       "      <th>joy</th>\n",
       "      <td>5362</td>\n",
       "    </tr>\n",
       "    <tr>\n",
       "      <th>love</th>\n",
       "      <td>1304</td>\n",
       "    </tr>\n",
       "    <tr>\n",
       "      <th>sadness</th>\n",
       "      <td>4666</td>\n",
       "    </tr>\n",
       "    <tr>\n",
       "      <th>surprise</th>\n",
       "      <td>572</td>\n",
       "    </tr>\n",
       "  </tbody>\n",
       "</table>\n",
       "</div>"
      ],
      "text/plain": [
       "          text\n",
       "emotion       \n",
       "anger     2159\n",
       "fear      1937\n",
       "joy       5362\n",
       "love      1304\n",
       "sadness   4666\n",
       "surprise   572"
      ]
     },
     "execution_count": 10,
     "metadata": {},
     "output_type": "execute_result"
    }
   ],
   "source": [
    "df.groupby('emotion').agg('count')"
   ]
  },
  {
   "cell_type": "code",
   "execution_count": 11,
   "metadata": {
    "execution": {
     "iopub.execute_input": "2024-05-27T10:38:01.448127Z",
     "iopub.status.busy": "2024-05-27T10:38:01.447643Z",
     "iopub.status.idle": "2024-05-27T10:38:02.154977Z",
     "shell.execute_reply": "2024-05-27T10:38:02.153768Z",
     "shell.execute_reply.started": "2024-05-27T10:38:01.448083Z"
    }
   },
   "outputs": [],
   "source": [
    "from imblearn.over_sampling import RandomOverSampler"
   ]
  },
  {
   "cell_type": "code",
   "execution_count": 12,
   "metadata": {
    "execution": {
     "iopub.execute_input": "2024-05-27T10:38:02.157347Z",
     "iopub.status.busy": "2024-05-27T10:38:02.156624Z",
     "iopub.status.idle": "2024-05-27T10:38:02.328939Z",
     "shell.execute_reply": "2024-05-27T10:38:02.327538Z",
     "shell.execute_reply.started": "2024-05-27T10:38:02.157315Z"
    }
   },
   "outputs": [],
   "source": [
    "x, y = RandomOverSampler(sampling_strategy={\n",
    "    'anger': 3500, 'love': 3500, 'surprise': 3500, 'fear': 3500, 'sadness': 4666, 'joy': 5362\n",
    "}).fit_resample(df.text.to_numpy().reshape(-1, 1), df.emotion)"
   ]
  },
  {
   "cell_type": "code",
   "execution_count": 13,
   "metadata": {
    "execution": {
     "iopub.execute_input": "2024-05-27T10:38:02.330917Z",
     "iopub.status.busy": "2024-05-27T10:38:02.330491Z",
     "iopub.status.idle": "2024-05-27T10:38:02.649096Z",
     "shell.execute_reply": "2024-05-27T10:38:02.647748Z",
     "shell.execute_reply.started": "2024-05-27T10:38:02.330879Z"
    }
   },
   "outputs": [
    {
     "data": {
      "text/plain": [
       "<Axes: xlabel='count', ylabel='emotion'>"
      ]
     },
     "execution_count": 13,
     "metadata": {},
     "output_type": "execute_result"
    },
    {
     "data": {
      "image/png": "[encoded data removed]",
      "text/plain": [
       "<Figure size 640x480 with 1 Axes>"
      ]
     },
     "metadata": {},
     "output_type": "display_data"
    }
   ],
   "source": [
    "sns.countplot(y=y)"
   ]
  },
  {
   "cell_type": "code",
   "execution_count": 14,
   "metadata": {
    "execution": {
     "iopub.execute_input": "2024-05-27T10:38:02.651437Z",
     "iopub.status.busy": "2024-05-27T10:38:02.650989Z",
     "iopub.status.idle": "2024-05-27T10:38:02.661701Z",
     "shell.execute_reply": "2024-05-27T10:38:02.660161Z",
     "shell.execute_reply.started": "2024-05-27T10:38:02.651393Z"
    }
   },
   "outputs": [],
   "source": [
    "df = pd.DataFrame({\n",
    "    'text': x.reshape(-1),\n",
    "    'emotion': y,\n",
    "})"
   ]
  },
  {
   "cell_type": "code",
   "execution_count": 15,
   "metadata": {
    "execution": {
     "iopub.execute_input": "2024-05-27T10:38:02.664482Z",
     "iopub.status.busy": "2024-05-27T10:38:02.663616Z",
     "iopub.status.idle": "2024-05-27T10:38:02.680843Z",
     "shell.execute_reply": "2024-05-27T10:38:02.679612Z",
     "shell.execute_reply.started": "2024-05-27T10:38:02.664441Z"
    }
   },
   "outputs": [
    {
     "data": {
      "text/html": [
       "<div>\n",
       "<style scoped>\n",
       "    .dataframe tbody tr th:only-of-type {\n",
       "        vertical-align: middle;\n",
       "    }\n",
       "\n",
       "    .dataframe tbody tr th {\n",
       "        vertical-align: top;\n",
       "    }\n",
       "\n",
       "    .dataframe thead th {\n",
       "        text-align: right;\n",
       "    }\n",
       "</style>\n",
       "<table border=\"1\" class=\"dataframe\">\n",
       "  <thead>\n",
       "    <tr style=\"text-align: right;\">\n",
       "      <th></th>\n",
       "      <th>text</th>\n",
       "      <th>emotion</th>\n",
       "    </tr>\n",
       "  </thead>\n",
       "  <tbody>\n",
       "    <tr>\n",
       "      <th>0</th>\n",
       "      <td>i didnt feel humiliated</td>\n",
       "      <td>sadness</td>\n",
       "    </tr>\n",
       "    <tr>\n",
       "      <th>1</th>\n",
       "      <td>i can go from feeling so hopeless to so damned...</td>\n",
       "      <td>sadness</td>\n",
       "    </tr>\n",
       "    <tr>\n",
       "      <th>2</th>\n",
       "      <td>im grabbing a minute to post i feel greedy wrong</td>\n",
       "      <td>anger</td>\n",
       "    </tr>\n",
       "    <tr>\n",
       "      <th>3</th>\n",
       "      <td>i am ever feeling nostalgic about the fireplac...</td>\n",
       "      <td>love</td>\n",
       "    </tr>\n",
       "    <tr>\n",
       "      <th>4</th>\n",
       "      <td>i am feeling grouchy</td>\n",
       "      <td>anger</td>\n",
       "    </tr>\n",
       "  </tbody>\n",
       "</table>\n",
       "</div>"
      ],
      "text/plain": [
       "                                                text  emotion\n",
       "0                            i didnt feel humiliated  sadness\n",
       "1  i can go from feeling so hopeless to so damned...  sadness\n",
       "2   im grabbing a minute to post i feel greedy wrong    anger\n",
       "3  i am ever feeling nostalgic about the fireplac...     love\n",
       "4                               i am feeling grouchy    anger"
      ]
     },
     "execution_count": 15,
     "metadata": {},
     "output_type": "execute_result"
    }
   ],
   "source": [
    "df.head()"
   ]
  },
  {
   "cell_type": "code",
   "execution_count": 16,
   "metadata": {
    "execution": {
     "iopub.execute_input": "2024-05-27T10:38:02.683734Z",
     "iopub.status.busy": "2024-05-27T10:38:02.682912Z",
     "iopub.status.idle": "2024-05-27T10:38:02.709812Z",
     "shell.execute_reply": "2024-05-27T10:38:02.708968Z",
     "shell.execute_reply.started": "2024-05-27T10:38:02.683692Z"
    }
   },
   "outputs": [
    {
     "name": "stdout",
     "output_type": "stream",
     "text": [
      "<class 'pandas.core.frame.DataFrame'>\n",
      "RangeIndex: 24028 entries, 0 to 24027\n",
      "Data columns (total 2 columns):\n",
      " #   Column   Non-Null Count  Dtype \n",
      "---  ------   --------------  ----- \n",
      " 0   text     24028 non-null  object\n",
      " 1   emotion  24028 non-null  object\n",
      "dtypes: object(2)\n",
      "memory usage: 375.6+ KB\n"
     ]
    }
   ],
   "source": [
    "df.info()"
   ]
  },
  {
   "cell_type": "code",
   "execution_count": 17,
   "metadata": {
    "execution": {
     "iopub.execute_input": "2024-05-27T10:38:02.712776Z",
     "iopub.status.busy": "2024-05-27T10:38:02.711713Z",
     "iopub.status.idle": "2024-05-27T10:38:16.635337Z",
     "shell.execute_reply": "2024-05-27T10:38:16.634301Z",
     "shell.execute_reply.started": "2024-05-27T10:38:02.712736Z"
    }
   },
   "outputs": [
    {
     "name": "stderr",
     "output_type": "stream",
     "text": [
      "2024-05-27 10:38:04.930594: E external/local_xla/xla/stream_executor/cuda/cuda_dnn.cc:9261] Unable to register cuDNN factory: Attempting to register factory for plugin cuDNN when one has already been registered\n",
      "2024-05-27 10:38:04.930721: E external/local_xla/xla/stream_executor/cuda/cuda_fft.cc:607] Unable to register cuFFT factory: Attempting to register factory for plugin cuFFT when one has already been registered\n",
      "2024-05-27 10:38:05.094999: E external/local_xla/xla/stream_executor/cuda/cuda_blas.cc:1515] Unable to register cuBLAS factory: Attempting to register factory for plugin cuBLAS when one has already been registered\n"
     ]
    }
   ],
   "source": [
    "import tensorflow as tf"
   ]
  },
  {
   "cell_type": "code",
   "execution_count": 18,
   "metadata": {
    "execution": {
     "iopub.execute_input": "2024-05-27T10:38:16.637486Z",
     "iopub.status.busy": "2024-05-27T10:38:16.636775Z",
     "iopub.status.idle": "2024-05-27T10:38:16.644395Z",
     "shell.execute_reply": "2024-05-27T10:38:16.643067Z",
     "shell.execute_reply.started": "2024-05-27T10:38:16.637452Z"
    }
   },
   "outputs": [],
   "source": [
    "def plot_graphs(history, metric):\n",
    "    plt.plot(history.history[metric])\n",
    "    plt.plot(history.history['val_'+metric], '')\n",
    "    plt.xlabel(\"Epochs\")\n",
    "    plt.ylabel(metric)\n",
    "    plt.legend([metric, 'val_'+metric])"
   ]
  },
  {
   "cell_type": "code",
   "execution_count": 19,
   "metadata": {
    "execution": {
     "iopub.execute_input": "2024-05-27T10:38:16.646629Z",
     "iopub.status.busy": "2024-05-27T10:38:16.646283Z",
     "iopub.status.idle": "2024-05-27T10:38:16.691932Z",
     "shell.execute_reply": "2024-05-27T10:38:16.690610Z",
     "shell.execute_reply.started": "2024-05-27T10:38:16.646598Z"
    }
   },
   "outputs": [],
   "source": [
    "BUFFER_SIZE = 10000\n",
    "BATCH_SIZE = 16"
   ]
  },
  {
   "cell_type": "code",
   "execution_count": 20,
   "metadata": {
    "execution": {
     "iopub.execute_input": "2024-05-27T10:38:16.694096Z",
     "iopub.status.busy": "2024-05-27T10:38:16.693587Z",
     "iopub.status.idle": "2024-05-27T10:38:16.709179Z",
     "shell.execute_reply": "2024-05-27T10:38:16.707423Z",
     "shell.execute_reply.started": "2024-05-27T10:38:16.694047Z"
    }
   },
   "outputs": [],
   "source": [
    "from sklearn.model_selection import train_test_split"
   ]
  },
  {
   "cell_type": "code",
   "execution_count": 21,
   "metadata": {
    "execution": {
     "iopub.execute_input": "2024-05-27T10:38:16.711609Z",
     "iopub.status.busy": "2024-05-27T10:38:16.710913Z",
     "iopub.status.idle": "2024-05-27T10:38:16.725443Z",
     "shell.execute_reply": "2024-05-27T10:38:16.724251Z",
     "shell.execute_reply.started": "2024-05-27T10:38:16.711578Z"
    }
   },
   "outputs": [],
   "source": [
    "X = df.text.to_numpy()\n",
    "Y = np.expand_dims(df.emotion.astype('category').cat.codes.to_numpy(), axis=1)"
   ]
  },
  {
   "cell_type": "code",
   "execution_count": 22,
   "metadata": {
    "execution": {
     "iopub.execute_input": "2024-05-27T10:38:16.727363Z",
     "iopub.status.busy": "2024-05-27T10:38:16.727006Z",
     "iopub.status.idle": "2024-05-27T10:38:16.737186Z",
     "shell.execute_reply": "2024-05-27T10:38:16.735615Z",
     "shell.execute_reply.started": "2024-05-27T10:38:16.727328Z"
    }
   },
   "outputs": [],
   "source": [
    "xtrain, xtest, ytrain, ytest = train_test_split(X, Y)"
   ]
  },
  {
   "cell_type": "code",
   "execution_count": 23,
   "metadata": {
    "execution": {
     "iopub.execute_input": "2024-05-27T10:38:16.738938Z",
     "iopub.status.busy": "2024-05-27T10:38:16.738534Z",
     "iopub.status.idle": "2024-05-27T10:38:16.750886Z",
     "shell.execute_reply": "2024-05-27T10:38:16.749683Z",
     "shell.execute_reply.started": "2024-05-27T10:38:16.738906Z"
    }
   },
   "outputs": [
    {
     "data": {
      "text/plain": [
       "((18021,), (18021, 1), (6007,), (6007, 1))"
      ]
     },
     "execution_count": 23,
     "metadata": {},
     "output_type": "execute_result"
    }
   ],
   "source": [
    "xtrain.shape, ytrain.shape, xtest.shape, ytest.shape"
   ]
  },
  {
   "cell_type": "code",
   "execution_count": 24,
   "metadata": {
    "execution": {
     "iopub.execute_input": "2024-05-27T10:38:16.752605Z",
     "iopub.status.busy": "2024-05-27T10:38:16.752298Z",
     "iopub.status.idle": "2024-05-27T10:38:16.810708Z",
     "shell.execute_reply": "2024-05-27T10:38:16.809590Z",
     "shell.execute_reply.started": "2024-05-27T10:38:16.752579Z"
    }
   },
   "outputs": [],
   "source": [
    "train_dataset = tf.data.Dataset.from_tensor_slices((xtrain, ytrain)).shuffle(BUFFER_SIZE).batch(BATCH_SIZE)\n",
    "test_dataset = tf.data.Dataset.from_tensor_slices((xtest, ytest)).shuffle(BUFFER_SIZE).batch(BATCH_SIZE)"
   ]
  },
  {
   "cell_type": "code",
   "execution_count": 25,
   "metadata": {
    "execution": {
     "iopub.execute_input": "2024-05-27T10:38:16.812461Z",
     "iopub.status.busy": "2024-05-27T10:38:16.812070Z",
     "iopub.status.idle": "2024-05-27T10:38:16.817353Z",
     "shell.execute_reply": "2024-05-27T10:38:16.816177Z",
     "shell.execute_reply.started": "2024-05-27T10:38:16.812426Z"
    }
   },
   "outputs": [],
   "source": [
    "VOCAB_SIZE=1000"
   ]
  },
  {
   "cell_type": "code",
   "execution_count": 26,
   "metadata": {
    "execution": {
     "iopub.execute_input": "2024-05-27T10:38:16.819427Z",
     "iopub.status.busy": "2024-05-27T10:38:16.818987Z",
     "iopub.status.idle": "2024-05-27T10:38:16.842122Z",
     "shell.execute_reply": "2024-05-27T10:38:16.840951Z",
     "shell.execute_reply.started": "2024-05-27T10:38:16.819391Z"
    }
   },
   "outputs": [],
   "source": [
    "encoder = tf.keras.layers.TextVectorization(max_tokens=VOCAB_SIZE)"
   ]
  },
  {
   "cell_type": "code",
   "execution_count": 27,
   "metadata": {
    "execution": {
     "iopub.execute_input": "2024-05-27T10:38:16.844237Z",
     "iopub.status.busy": "2024-05-27T10:38:16.843767Z",
     "iopub.status.idle": "2024-05-27T10:38:21.039523Z",
     "shell.execute_reply": "2024-05-27T10:38:21.038391Z",
     "shell.execute_reply.started": "2024-05-27T10:38:16.844197Z"
    }
   },
   "outputs": [],
   "source": [
    "encoder.adapt(train_dataset.map(lambda text, label: text))"
   ]
  },
  {
   "cell_type": "code",
   "execution_count": 28,
   "metadata": {
    "execution": {
     "iopub.execute_input": "2024-05-27T10:38:21.047599Z",
     "iopub.status.busy": "2024-05-27T10:38:21.047206Z",
     "iopub.status.idle": "2024-05-27T10:38:21.063316Z",
     "shell.execute_reply": "2024-05-27T10:38:21.061907Z",
     "shell.execute_reply.started": "2024-05-27T10:38:21.047566Z"
    }
   },
   "outputs": [
    {
     "data": {
      "text/plain": [
       "array(['', '[UNK]', 'i', 'feel', 'and', 'to', 'the', 'a', 'feeling',\n",
       "       'that', 'of', 'my', 'in', 'it', 'like', 'so', 'im', 'for', 'was',\n",
       "       'me'], dtype='<U13')"
      ]
     },
     "execution_count": 28,
     "metadata": {},
     "output_type": "execute_result"
    }
   ],
   "source": [
    "vocab = np.array(encoder.get_vocabulary())\n",
    "vocab[:20]"
   ]
  },
  {
   "cell_type": "code",
   "execution_count": 29,
   "metadata": {
    "execution": {
     "iopub.execute_input": "2024-05-27T10:38:21.064954Z",
     "iopub.status.busy": "2024-05-27T10:38:21.064590Z",
     "iopub.status.idle": "2024-05-27T10:38:21.096008Z",
     "shell.execute_reply": "2024-05-27T10:38:21.094773Z",
     "shell.execute_reply.started": "2024-05-27T10:38:21.064924Z"
    }
   },
   "outputs": [
    {
     "data": {
      "text/plain": [
       "array([ 11, 671,  22,   1])"
      ]
     },
     "execution_count": 29,
     "metadata": {},
     "output_type": "execute_result"
    }
   ],
   "source": [
    "encoder(\"my name is tanmay\").numpy()"
   ]
  },
  {
   "cell_type": "code",
   "execution_count": 30,
   "metadata": {
    "execution": {
     "iopub.execute_input": "2024-05-27T10:38:21.097708Z",
     "iopub.status.busy": "2024-05-27T10:38:21.097372Z",
     "iopub.status.idle": "2024-05-27T10:38:21.150800Z",
     "shell.execute_reply": "2024-05-27T10:38:21.149737Z",
     "shell.execute_reply.started": "2024-05-27T10:38:21.097680Z"
    }
   },
   "outputs": [],
   "source": [
    "model = tf.keras.Sequential([\n",
    "    encoder,\n",
    "    tf.keras.layers.Embedding(\n",
    "        input_dim=len(encoder.get_vocabulary()),\n",
    "        output_dim=64,\n",
    "        mask_zero=True,\n",
    "    ),\n",
    "    tf.keras.layers.Bidirectional(tf.keras.layers.LSTM(64, return_sequences=True)),\n",
    "    tf.keras.layers.Bidirectional(tf.keras.layers.LSTM(32)),\n",
    "    tf.keras.layers.Dense(32, activation='relu'),\n",
    "    tf.keras.layers.Dense(6),\n",
    "])"
   ]
  },
  {
   "cell_type": "code",
   "execution_count": 31,
   "metadata": {
    "execution": {
     "iopub.execute_input": "2024-05-27T10:38:21.152423Z",
     "iopub.status.busy": "2024-05-27T10:38:21.152115Z",
     "iopub.status.idle": "2024-05-27T10:38:21.158269Z",
     "shell.execute_reply": "2024-05-27T10:38:21.157066Z",
     "shell.execute_reply.started": "2024-05-27T10:38:21.152397Z"
    }
   },
   "outputs": [
    {
     "name": "stdout",
     "output_type": "stream",
     "text": [
      "[False, True, True, True, True, True]\n"
     ]
    }
   ],
   "source": [
    "print([layer.supports_masking for layer in model.layers])"
   ]
  },
  {
   "cell_type": "code",
   "execution_count": 32,
   "metadata": {
    "execution": {
     "iopub.execute_input": "2024-05-27T10:38:21.160361Z",
     "iopub.status.busy": "2024-05-27T10:38:21.159910Z",
     "iopub.status.idle": "2024-05-27T10:38:23.279898Z",
     "shell.execute_reply": "2024-05-27T10:38:23.278666Z",
     "shell.execute_reply.started": "2024-05-27T10:38:21.160324Z"
    }
   },
   "outputs": [
    {
     "name": "stdout",
     "output_type": "stream",
     "text": [
      "\u001b[1m1/1\u001b[0m \u001b[32m━━━━━━━━━━━━━━━━━━━━\u001b[0m\u001b[37m\u001b[0m \u001b[1m2s\u001b[0m 2s/step\n",
      "[-0.00379184  0.00081271  0.00264279  0.0022931   0.01539659 -0.00574231]\n"
     ]
    }
   ],
   "source": [
    "sample_text = 'The movie was cool. The animation and the graphics were out of this world. I would recommend this movie.'\n",
    "predictions = model.predict(np.array([sample_text], dtype='object'))\n",
    "print(predictions[0])"
   ]
  },
  {
   "cell_type": "code",
   "execution_count": 33,
   "metadata": {
    "execution": {
     "iopub.execute_input": "2024-05-27T10:38:23.281667Z",
     "iopub.status.busy": "2024-05-27T10:38:23.281316Z",
     "iopub.status.idle": "2024-05-27T10:38:24.530734Z",
     "shell.execute_reply": "2024-05-27T10:38:24.529624Z",
     "shell.execute_reply.started": "2024-05-27T10:38:23.281638Z"
    }
   },
   "outputs": [
    {
     "name": "stdout",
     "output_type": "stream",
     "text": [
      "\u001b[1m1/1\u001b[0m \u001b[32m━━━━━━━━━━━━━━━━━━━━\u001b[0m\u001b[37m\u001b[0m \u001b[1m1s\u001b[0m 1s/step\n",
      "[-0.00379184  0.00081271  0.00264279  0.0022931   0.0153966  -0.00574231]\n"
     ]
    }
   ],
   "source": [
    "padding = \"the \" * 2000\n",
    "predictions = model.predict(np.array([sample_text, padding], dtype='object'))\n",
    "print(predictions[0])"
   ]
  },
  {
   "cell_type": "code",
   "execution_count": 34,
   "metadata": {
    "execution": {
     "iopub.execute_input": "2024-05-27T10:38:24.533134Z",
     "iopub.status.busy": "2024-05-27T10:38:24.532695Z",
     "iopub.status.idle": "2024-05-27T10:38:24.551455Z",
     "shell.execute_reply": "2024-05-27T10:38:24.550338Z",
     "shell.execute_reply.started": "2024-05-27T10:38:24.533095Z"
    }
   },
   "outputs": [],
   "source": [
    "model.compile(\n",
    "    optimizer='adam',\n",
    "    loss=tf.keras.losses.SparseCategoricalCrossentropy(from_logits=True),\n",
    "    metrics=['accuracy']\n",
    ")"
   ]
  },
  {
   "cell_type": "code",
   "execution_count": 35,
   "metadata": {
    "execution": {
     "iopub.execute_input": "2024-05-27T10:38:24.553743Z",
     "iopub.status.busy": "2024-05-27T10:38:24.552944Z",
     "iopub.status.idle": "2024-05-27T10:38:24.581317Z",
     "shell.execute_reply": "2024-05-27T10:38:24.580099Z",
     "shell.execute_reply.started": "2024-05-27T10:38:24.553703Z"
    }
   },
   "outputs": [
    {
     "data": {
      "text/html": [
       "<pre style=\"white-space:pre;overflow-x:auto;line-height:normal;font-family:Menlo,'DejaVu Sans Mono',consolas,'Courier New',monospace\"><span style=\"font-weight: bold\">Model: \"sequential\"</span>\n",
       "</pre>\n"
      ],
      "text/plain": [
       "\u001b[1mModel: \"sequential\"\u001b[0m\n"
      ]
     },
     "metadata": {},
     "output_type": "display_data"
    },
    {
     "data": {
      "text/html": [
       "<pre style=\"white-space:pre;overflow-x:auto;line-height:normal;font-family:Menlo,'DejaVu Sans Mono',consolas,'Courier New',monospace\">┏━━━━━━━━━━━━━━━━━━━━━━━━━━━━━━━━━┳━━━━━━━━━━━━━━━━━━━━━━━━┳━━━━━━━━━━━━━━━┓\n",
       "┃<span style=\"font-weight: bold\"> Layer (type)                    </span>┃<span style=\"font-weight: bold\"> Output Shape           </span>┃<span style=\"font-weight: bold\">       Param # </span>┃\n",
       "┡━━━━━━━━━━━━━━━━━━━━━━━━━━━━━━━━━╇━━━━━━━━━━━━━━━━━━━━━━━━╇━━━━━━━━━━━━━━━┩\n",
       "│ text_vectorization              │ (<span style=\"color: #00af00; text-decoration-color: #00af00\">1</span>, <span style=\"color: #00d7ff; text-decoration-color: #00d7ff\">None</span>)              │             <span style=\"color: #00af00; text-decoration-color: #00af00\">0</span> │\n",
       "│ (<span style=\"color: #0087ff; text-decoration-color: #0087ff\">TextVectorization</span>)             │                        │               │\n",
       "├─────────────────────────────────┼────────────────────────┼───────────────┤\n",
       "│ embedding (<span style=\"color: #0087ff; text-decoration-color: #0087ff\">Embedding</span>)           │ (<span style=\"color: #00af00; text-decoration-color: #00af00\">1</span>, <span style=\"color: #00d7ff; text-decoration-color: #00d7ff\">None</span>, <span style=\"color: #00af00; text-decoration-color: #00af00\">64</span>)          │        <span style=\"color: #00af00; text-decoration-color: #00af00\">64,000</span> │\n",
       "├─────────────────────────────────┼────────────────────────┼───────────────┤\n",
       "│ bidirectional (<span style=\"color: #0087ff; text-decoration-color: #0087ff\">Bidirectional</span>)   │ (<span style=\"color: #00af00; text-decoration-color: #00af00\">1</span>, <span style=\"color: #00d7ff; text-decoration-color: #00d7ff\">None</span>, <span style=\"color: #00af00; text-decoration-color: #00af00\">128</span>)         │        <span style=\"color: #00af00; text-decoration-color: #00af00\">66,048</span> │\n",
       "├─────────────────────────────────┼────────────────────────┼───────────────┤\n",
       "│ bidirectional_1 (<span style=\"color: #0087ff; text-decoration-color: #0087ff\">Bidirectional</span>) │ (<span style=\"color: #00af00; text-decoration-color: #00af00\">1</span>, <span style=\"color: #00af00; text-decoration-color: #00af00\">64</span>)                │        <span style=\"color: #00af00; text-decoration-color: #00af00\">41,216</span> │\n",
       "├─────────────────────────────────┼────────────────────────┼───────────────┤\n",
       "│ dense (<span style=\"color: #0087ff; text-decoration-color: #0087ff\">Dense</span>)                   │ (<span style=\"color: #00af00; text-decoration-color: #00af00\">1</span>, <span style=\"color: #00af00; text-decoration-color: #00af00\">32</span>)                │         <span style=\"color: #00af00; text-decoration-color: #00af00\">2,080</span> │\n",
       "├─────────────────────────────────┼────────────────────────┼───────────────┤\n",
       "│ dense_1 (<span style=\"color: #0087ff; text-decoration-color: #0087ff\">Dense</span>)                 │ (<span style=\"color: #00af00; text-decoration-color: #00af00\">1</span>, <span style=\"color: #00af00; text-decoration-color: #00af00\">6</span>)                 │           <span style=\"color: #00af00; text-decoration-color: #00af00\">198</span> │\n",
       "└─────────────────────────────────┴────────────────────────┴───────────────┘\n",
       "</pre>\n"
      ],
      "text/plain": [
       "┏━━━━━━━━━━━━━━━━━━━━━━━━━━━━━━━━━┳━━━━━━━━━━━━━━━━━━━━━━━━┳━━━━━━━━━━━━━━━┓\n",
       "┃\u001b[1m \u001b[0m\u001b[1mLayer (type)                   \u001b[0m\u001b[1m \u001b[0m┃\u001b[1m \u001b[0m\u001b[1mOutput Shape          \u001b[0m\u001b[1m \u001b[0m┃\u001b[1m \u001b[0m\u001b[1m      Param #\u001b[0m\u001b[1m \u001b[0m┃\n",
       "┡━━━━━━━━━━━━━━━━━━━━━━━━━━━━━━━━━╇━━━━━━━━━━━━━━━━━━━━━━━━╇━━━━━━━━━━━━━━━┩\n",
       "│ text_vectorization              │ (\u001b[38;5;34m1\u001b[0m, \u001b[38;5;45mNone\u001b[0m)              │             \u001b[38;5;34m0\u001b[0m │\n",
       "│ (\u001b[38;5;33mTextVectorization\u001b[0m)             │                        │               │\n",
       "├─────────────────────────────────┼────────────────────────┼───────────────┤\n",
       "│ embedding (\u001b[38;5;33mEmbedding\u001b[0m)           │ (\u001b[38;5;34m1\u001b[0m, \u001b[38;5;45mNone\u001b[0m, \u001b[38;5;34m64\u001b[0m)          │        \u001b[38;5;34m64,000\u001b[0m │\n",
       "├─────────────────────────────────┼────────────────────────┼───────────────┤\n",
       "│ bidirectional (\u001b[38;5;33mBidirectional\u001b[0m)   │ (\u001b[38;5;34m1\u001b[0m, \u001b[38;5;45mNone\u001b[0m, \u001b[38;5;34m128\u001b[0m)         │        \u001b[38;5;34m66,048\u001b[0m │\n",
       "├─────────────────────────────────┼────────────────────────┼───────────────┤\n",
       "│ bidirectional_1 (\u001b[38;5;33mBidirectional\u001b[0m) │ (\u001b[38;5;34m1\u001b[0m, \u001b[38;5;34m64\u001b[0m)                │        \u001b[38;5;34m41,216\u001b[0m │\n",
       "├─────────────────────────────────┼────────────────────────┼───────────────┤\n",
       "│ dense (\u001b[38;5;33mDense\u001b[0m)                   │ (\u001b[38;5;34m1\u001b[0m, \u001b[38;5;34m32\u001b[0m)                │         \u001b[38;5;34m2,080\u001b[0m │\n",
       "├─────────────────────────────────┼────────────────────────┼───────────────┤\n",
       "│ dense_1 (\u001b[38;5;33mDense\u001b[0m)                 │ (\u001b[38;5;34m1\u001b[0m, \u001b[38;5;34m6\u001b[0m)                 │           \u001b[38;5;34m198\u001b[0m │\n",
       "└─────────────────────────────────┴────────────────────────┴───────────────┘\n"
      ]
     },
     "metadata": {},
     "output_type": "display_data"
    },
    {
     "data": {
      "text/html": [
       "<pre style=\"white-space:pre;overflow-x:auto;line-height:normal;font-family:Menlo,'DejaVu Sans Mono',consolas,'Courier New',monospace\"><span style=\"font-weight: bold\"> Total params: </span><span style=\"color: #00af00; text-decoration-color: #00af00\">173,542</span> (677.90 KB)\n",
       "</pre>\n"
      ],
      "text/plain": [
       "\u001b[1m Total params: \u001b[0m\u001b[38;5;34m173,542\u001b[0m (677.90 KB)\n"
      ]
     },
     "metadata": {},
     "output_type": "display_data"
    },
    {
     "data": {
      "text/html": [
       "<pre style=\"white-space:pre;overflow-x:auto;line-height:normal;font-family:Menlo,'DejaVu Sans Mono',consolas,'Courier New',monospace\"><span style=\"font-weight: bold\"> Trainable params: </span><span style=\"color: #00af00; text-decoration-color: #00af00\">173,542</span> (677.90 KB)\n",
       "</pre>\n"
      ],
      "text/plain": [
       "\u001b[1m Trainable params: \u001b[0m\u001b[38;5;34m173,542\u001b[0m (677.90 KB)\n"
      ]
     },
     "metadata": {},
     "output_type": "display_data"
    },
    {
     "data": {
      "text/html": [
       "<pre style=\"white-space:pre;overflow-x:auto;line-height:normal;font-family:Menlo,'DejaVu Sans Mono',consolas,'Courier New',monospace\"><span style=\"font-weight: bold\"> Non-trainable params: </span><span style=\"color: #00af00; text-decoration-color: #00af00\">0</span> (0.00 B)\n",
       "</pre>\n"
      ],
      "text/plain": [
       "\u001b[1m Non-trainable params: \u001b[0m\u001b[38;5;34m0\u001b[0m (0.00 B)\n"
      ]
     },
     "metadata": {},
     "output_type": "display_data"
    }
   ],
   "source": [
    "model.summary()"
   ]
  },
  {
   "cell_type": "code",
   "execution_count": 36,
   "metadata": {
    "execution": {
     "iopub.execute_input": "2024-05-27T10:38:24.583164Z",
     "iopub.status.busy": "2024-05-27T10:38:24.582742Z",
     "iopub.status.idle": "2024-05-27T11:00:43.122648Z",
     "shell.execute_reply": "2024-05-27T11:00:43.121482Z",
     "shell.execute_reply.started": "2024-05-27T10:38:24.583134Z"
    }
   },
   "outputs": [
    {
     "name": "stdout",
     "output_type": "stream",
     "text": [
      "Epoch 1/18\n",
      "\u001b[1m1127/1127\u001b[0m \u001b[32m━━━━━━━━━━━━━━━━━━━━\u001b[0m\u001b[37m\u001b[0m \u001b[1m81s\u001b[0m 64ms/step - accuracy: 0.4428 - loss: 1.3415 - val_accuracy: 0.8438 - val_loss: 0.4745\n",
      "Epoch 2/18\n",
      "\u001b[1m1127/1127\u001b[0m \u001b[32m━━━━━━━━━━━━━━━━━━━━\u001b[0m\u001b[37m\u001b[0m \u001b[1m81s\u001b[0m 63ms/step - accuracy: 0.8603 - loss: 0.4158 - val_accuracy: 0.8680 - val_loss: 0.3695\n",
      "Epoch 3/18\n",
      "\u001b[1m1127/1127\u001b[0m \u001b[32m━━━━━━━━━━━━━━━━━━━━\u001b[0m\u001b[37m\u001b[0m \u001b[1m71s\u001b[0m 63ms/step - accuracy: 0.8841 - loss: 0.3218 - val_accuracy: 0.8645 - val_loss: 0.3468\n",
      "Epoch 4/18\n",
      "\u001b[1m1127/1127\u001b[0m \u001b[32m━━━━━━━━━━━━━━━━━━━━\u001b[0m\u001b[37m\u001b[0m \u001b[1m72s\u001b[0m 63ms/step - accuracy: 0.8965 - loss: 0.2713 - val_accuracy: 0.8741 - val_loss: 0.3414\n",
      "Epoch 5/18\n",
      "\u001b[1m1127/1127\u001b[0m \u001b[32m━━━━━━━━━━━━━━━━━━━━\u001b[0m\u001b[37m\u001b[0m \u001b[1m71s\u001b[0m 63ms/step - accuracy: 0.9003 - loss: 0.2612 - val_accuracy: 0.8810 - val_loss: 0.3396\n",
      "Epoch 6/18\n",
      "\u001b[1m1127/1127\u001b[0m \u001b[32m━━━━━━━━━━━━━━━━━━━━\u001b[0m\u001b[37m\u001b[0m \u001b[1m81s\u001b[0m 62ms/step - accuracy: 0.9147 - loss: 0.2221 - val_accuracy: 0.8810 - val_loss: 0.3371\n",
      "Epoch 7/18\n",
      "\u001b[1m1127/1127\u001b[0m \u001b[32m━━━━━━━━━━━━━━━━━━━━\u001b[0m\u001b[37m\u001b[0m \u001b[1m71s\u001b[0m 63ms/step - accuracy: 0.9205 - loss: 0.2068 - val_accuracy: 0.8861 - val_loss: 0.3281\n",
      "Epoch 8/18\n",
      "\u001b[1m1127/1127\u001b[0m \u001b[32m━━━━━━━━━━━━━━━━━━━━\u001b[0m\u001b[37m\u001b[0m \u001b[1m71s\u001b[0m 63ms/step - accuracy: 0.9321 - loss: 0.1802 - val_accuracy: 0.8890 - val_loss: 0.3258\n",
      "Epoch 9/18\n",
      "\u001b[1m1127/1127\u001b[0m \u001b[32m━━━━━━━━━━━━━━━━━━━━\u001b[0m\u001b[37m\u001b[0m \u001b[1m71s\u001b[0m 63ms/step - accuracy: 0.9345 - loss: 0.1683 - val_accuracy: 0.8921 - val_loss: 0.3404\n",
      "Epoch 10/18\n",
      "\u001b[1m1127/1127\u001b[0m \u001b[32m━━━━━━━━━━━━━━━━━━━━\u001b[0m\u001b[37m\u001b[0m \u001b[1m83s\u001b[0m 64ms/step - accuracy: 0.9353 - loss: 0.1658 - val_accuracy: 0.8955 - val_loss: 0.3369\n",
      "Epoch 11/18\n",
      "\u001b[1m1127/1127\u001b[0m \u001b[32m━━━━━━━━━━━━━━━━━━━━\u001b[0m\u001b[37m\u001b[0m \u001b[1m72s\u001b[0m 64ms/step - accuracy: 0.9457 - loss: 0.1413 - val_accuracy: 0.8976 - val_loss: 0.3529\n",
      "Epoch 12/18\n",
      "\u001b[1m1127/1127\u001b[0m \u001b[32m━━━━━━━━━━━━━━━━━━━━\u001b[0m\u001b[37m\u001b[0m \u001b[1m71s\u001b[0m 63ms/step - accuracy: 0.9509 - loss: 0.1267 - val_accuracy: 0.8910 - val_loss: 0.3343\n",
      "Epoch 13/18\n",
      "\u001b[1m1127/1127\u001b[0m \u001b[32m━━━━━━━━━━━━━━━━━━━━\u001b[0m\u001b[37m\u001b[0m \u001b[1m70s\u001b[0m 62ms/step - accuracy: 0.9564 - loss: 0.1116 - val_accuracy: 0.8898 - val_loss: 0.3835\n",
      "Epoch 14/18\n",
      "\u001b[1m1127/1127\u001b[0m \u001b[32m━━━━━━━━━━━━━━━━━━━━\u001b[0m\u001b[37m\u001b[0m \u001b[1m70s\u001b[0m 62ms/step - accuracy: 0.9610 - loss: 0.0998 - val_accuracy: 0.8973 - val_loss: 0.3897\n",
      "Epoch 15/18\n",
      "\u001b[1m1127/1127\u001b[0m \u001b[32m━━━━━━━━━━━━━━━━━━━━\u001b[0m\u001b[37m\u001b[0m \u001b[1m70s\u001b[0m 62ms/step - accuracy: 0.9651 - loss: 0.0897 - val_accuracy: 0.9004 - val_loss: 0.3730\n",
      "Epoch 16/18\n",
      "\u001b[1m1127/1127\u001b[0m \u001b[32m━━━━━━━━━━━━━━━━━━━━\u001b[0m\u001b[37m\u001b[0m \u001b[1m82s\u001b[0m 63ms/step - accuracy: 0.9701 - loss: 0.0803 - val_accuracy: 0.9001 - val_loss: 0.3925\n",
      "Epoch 17/18\n",
      "\u001b[1m1127/1127\u001b[0m \u001b[32m━━━━━━━━━━━━━━━━━━━━\u001b[0m\u001b[37m\u001b[0m \u001b[1m70s\u001b[0m 62ms/step - accuracy: 0.9730 - loss: 0.0703 - val_accuracy: 0.8953 - val_loss: 0.4263\n",
      "Epoch 18/18\n",
      "\u001b[1m1127/1127\u001b[0m \u001b[32m━━━━━━━━━━━━━━━━━━━━\u001b[0m\u001b[37m\u001b[0m \u001b[1m82s\u001b[0m 62ms/step - accuracy: 0.9727 - loss: 0.0718 - val_accuracy: 0.8863 - val_loss: 0.4882\n"
     ]
    }
   ],
   "source": [
    "history = model.fit(train_dataset, validation_data=test_dataset, epochs=18)"
   ]
  },
  {
   "cell_type": "code",
   "execution_count": 37,
   "metadata": {
    "execution": {
     "iopub.execute_input": "2024-05-27T11:00:43.125535Z",
     "iopub.status.busy": "2024-05-27T11:00:43.125006Z",
     "iopub.status.idle": "2024-05-27T11:00:43.459188Z",
     "shell.execute_reply": "2024-05-27T11:00:43.458065Z",
     "shell.execute_reply.started": "2024-05-27T11:00:43.125505Z"
    }
   },
   "outputs": [
    {
     "data": {
      "image/png": "[encoded data removed]",
      "text/plain": [
       "<Figure size 640x480 with 1 Axes>"
      ]
     },
     "metadata": {},
     "output_type": "display_data"
    }
   ],
   "source": [
    "plot_graphs(history, 'accuracy')"
   ]
  },
  {
   "cell_type": "code",
   "execution_count": 38,
   "metadata": {
    "execution": {
     "iopub.execute_input": "2024-05-27T11:00:43.461308Z",
     "iopub.status.busy": "2024-05-27T11:00:43.460892Z",
     "iopub.status.idle": "2024-05-27T11:00:43.718697Z",
     "shell.execute_reply": "2024-05-27T11:00:43.717527Z",
     "shell.execute_reply.started": "2024-05-27T11:00:43.461271Z"
    }
   },
   "outputs": [
    {
     "data": {
      "image/png": "[encoded data removed]",
      "text/plain": [
       "<Figure size 640x480 with 1 Axes>"
      ]
     },
     "metadata": {},
     "output_type": "display_data"
    }
   ],
   "source": [
    "plot_graphs(history, 'loss')"
   ]
  },
  {
   "cell_type": "code",
   "execution_count": 39,
   "metadata": {
    "execution": {
     "iopub.execute_input": "2024-05-27T11:00:43.720686Z",
     "iopub.status.busy": "2024-05-27T11:00:43.720356Z",
     "iopub.status.idle": "2024-05-27T11:00:43.736106Z",
     "shell.execute_reply": "2024-05-27T11:00:43.734934Z",
     "shell.execute_reply.started": "2024-05-27T11:00:43.720659Z"
    }
   },
   "outputs": [
    {
     "name": "stdout",
     "output_type": "stream",
     "text": [
      "Made maps\n"
     ]
    }
   ],
   "source": [
    "data = {\n",
    "    'emotion': df.emotion,\n",
    "    'cat': np.squeeze(Y)\n",
    "}\n",
    "\n",
    "mapping = {}\n",
    "\n",
    "def get_values(x):\n",
    "    mapping[x['cat']] = x['emotion']\n",
    "\n",
    "pd.DataFrame(data).drop_duplicates().apply(get_values, axis=1)\n",
    "print(\"Made maps\")"
   ]
  },
  {
   "cell_type": "code",
   "execution_count": 40,
   "metadata": {
    "execution": {
     "iopub.execute_input": "2024-05-27T11:00:43.738751Z",
     "iopub.status.busy": "2024-05-27T11:00:43.738420Z",
     "iopub.status.idle": "2024-05-27T11:00:43.744408Z",
     "shell.execute_reply": "2024-05-27T11:00:43.743222Z",
     "shell.execute_reply.started": "2024-05-27T11:00:43.738722Z"
    }
   },
   "outputs": [],
   "source": [
    "def get_pred(x):\n",
    "    if x == \"\":\n",
    "        print(\"EMPTY!\")\n",
    "        return\n",
    "    \n",
    "    return mapping[np.argmax(model.predict(np.array([x], dtype='object')))]"
   ]
  },
  {
   "cell_type": "code",
   "execution_count": 41,
   "metadata": {
    "execution": {
     "iopub.execute_input": "2024-05-27T11:00:43.746033Z",
     "iopub.status.busy": "2024-05-27T11:00:43.745692Z",
     "iopub.status.idle": "2024-05-27T11:00:44.657106Z",
     "shell.execute_reply": "2024-05-27T11:00:44.655963Z",
     "shell.execute_reply.started": "2024-05-27T11:00:43.746004Z"
    }
   },
   "outputs": [
    {
     "name": "stdout",
     "output_type": "stream",
     "text": [
      "\u001b[1m1/1\u001b[0m \u001b[32m━━━━━━━━━━━━━━━━━━━━\u001b[0m\u001b[37m\u001b[0m \u001b[1m1s\u001b[0m 832ms/step\n"
     ]
    },
    {
     "data": {
      "text/plain": [
       "'joy'"
      ]
     },
     "execution_count": 41,
     "metadata": {},
     "output_type": "execute_result"
    }
   ],
   "source": [
    "get_pred('i am happy')"
   ]
  },
  {
   "cell_type": "code",
   "execution_count": null,
   "metadata": {},
   "outputs": [],
   "source": []
  }
 ],
 "metadata": {
  "kaggle": {
   "accelerator": "none",
   "dataSources": [
    {
     "datasetId": 605165,
     "sourceId": 1085454,
     "sourceType": "datasetVersion"
    }
   ],
   "dockerImageVersionId": 30698,
   "isGpuEnabled": false,
   "isInternetEnabled": true,
   "language": "python",
   "sourceType": "notebook"
  },
  "kernelspec": {
   "display_name": "Python 3 (ipykernel)",
   "language": "python",
   "name": "python3"
  },
  "language_info": {
   "codemirror_mode": {
    "name": "ipython",
    "version": 3
   },
   "file_extension": ".py",
   "mimetype": "text/x-python",
   "name": "python",
   "nbconvert_exporter": "python",
   "pygments_lexer": "ipython3",
   "version": "3.10.12"
  }
 },
 "nbformat": 4,
 "nbformat_minor": 4
}
